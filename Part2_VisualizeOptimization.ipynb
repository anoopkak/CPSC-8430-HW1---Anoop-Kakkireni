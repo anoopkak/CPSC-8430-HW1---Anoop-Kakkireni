{
 "cells": [
  {
   "cell_type": "code",
   "execution_count": 1,
   "id": "cognitive-watch",
   "metadata": {},
   "outputs": [
    {
     "name": "stderr",
     "output_type": "stream",
     "text": [
      "C:\\Users\\anoop\\anaconda3\\envs\\pytorch\\lib\\site-packages\\torchvision\\io\\image.py:11: UserWarning: Failed to load image Python extension: [WinError 126] The specified module could not be found\n",
      "  warn(f\"Failed to load image Python extension: {e}\")\n"
     ]
    }
   ],
   "source": [
    "# A DNN is trained on the function y = cos(x) and the process of optimizing weights is shown. \n",
    "\n",
    "import numpy as np\n",
    "import torch\n",
    "import torchvision as tv\n",
    "from torchvision import transforms, datasets\n",
    "import torch.nn as nn\n",
    "import torch.nn.functional as F\n",
    "import torch.optim as optim\n",
    "import math\n",
    "import matplotlib.pyplot as plt\n",
    "%matplotlib inline"
   ]
  },
  {
   "cell_type": "code",
   "execution_count": 2,
   "id": "detected-hepatitis",
   "metadata": {},
   "outputs": [],
   "source": [
    "# Create random data between (-10, 10) and determine groundtruth\n",
    "simulatedInput = 3*torch.rand(1000,1)\n",
    "groundTruth = torch.sin(5*math.pi*simulatedInput)"
   ]
  },
  {
   "cell_type": "code",
   "execution_count": 3,
   "id": "minor-cosmetic",
   "metadata": {},
   "outputs": [],
   "source": [
    "# Calculate the number of parameters in a neural network\n",
    "def calcParams(inputModel):\n",
    "    val = sum(params.numel() for params in inputModel.parameters() if params.requires_grad)\n",
    "    return val"
   ]
  },
  {
   "cell_type": "code",
   "execution_count": 4,
   "id": "5cd80f53",
   "metadata": {},
   "outputs": [
    {
     "data": {
      "text/plain": [
       "220"
      ]
     },
     "execution_count": 4,
     "metadata": {},
     "output_type": "execute_result"
    }
   ],
   "source": [
    "calcParams(nn.Linear(10,20))"
   ]
  },
  {
   "cell_type": "code",
   "execution_count": 5,
   "id": "ancient-above",
   "metadata": {},
   "outputs": [],
   "source": [
    "# Set up NN for cos(x) training - 2 Hidden Layers, 32 parameters \n",
    "class OptimizeNN(nn.Module):\n",
    "    def __init__(self):\n",
    "        super().__init__()\n",
    "        self.fc1 = nn.Linear(1, 3)\n",
    "        self.fc2 = nn.Linear(3, 5)\n",
    "        self.fc3 = nn.Linear(5, 1)\n",
    "\n",
    "    def forward(self, val):\n",
    "        val = F.relu(self.fc1(val))\n",
    "        val = F.relu(self.fc2(val))\n",
    "        val = self.fc3(val)\n",
    "        return val"
   ]
  },
  {
   "cell_type": "code",
   "execution_count": 6,
   "id": "bearing-journalist",
   "metadata": {
    "scrolled": true
   },
   "outputs": [],
   "source": [
    "# Set up necessary auxilaries for neural net training\n",
    "optimNet = OptimizeNN()\n",
    "costFunc = nn.MSELoss()\n",
    "opt = optim.Adam(optimNet.parameters(), lr=0.001)"
   ]
  },
  {
   "cell_type": "code",
   "execution_count": 7,
   "id": "scheduled-listing",
   "metadata": {
    "scrolled": false
   },
   "outputs": [],
   "source": [
    "# Training of network to visualize optimization\n",
    "trainingIter = 8\n",
    "EPOCHS = 330 # Must be divisible by 3 for how epochNum is used in training\n",
    "epochNum = round(EPOCHS / 3)\n",
    "layer1Connections = 1 * 3\n",
    "layer2Connections = 3 * 5\n",
    "layer3Connections = 5 * 1\n",
    "totModelConnections = layer1Connections + layer2Connections + layer3Connections\n",
    "\n",
    "# Number of training iterations for visualization\n",
    "costList = []\n",
    "counter = 0\n",
    "layer2WeightsTensor = torch.zeros((trainingIter * epochNum, layer2Connections))\n",
    "wholeModelWeightsTensor = torch.zeros((trainingIter * epochNum, totModelConnections))\n",
    "costTensor = torch.zeros((trainingIter * epochNum, 1))\n",
    "for trainingIndex in range(trainingIter): \n",
    "    \n",
    "    # Training of individual series, reset model on every series\n",
    "    optimNet = OptimizeNN()\n",
    "    costFunc = nn.MSELoss()\n",
    "    opt = optim.Adam(optimNet.parameters(), lr=0.001)\n",
    "    for epochIndex in range(EPOCHS):\n",
    "        optimNet.zero_grad()\n",
    "        output = optimNet(simulatedInput)\n",
    "        cost = costFunc(output, groundTruth)\n",
    "        cost.backward()\n",
    "        opt.step()\n",
    "\n",
    "        # Every 3 epochs, collect weights and cost\n",
    "        if epochIndex % 3 == 0:\n",
    "            # Gather weights of the model\n",
    "            layer1Weights = torch.reshape(torch.flatten(optimNet.fc1.weight), (1, layer1Connections))\n",
    "            layer2Weights = torch.reshape(torch.flatten(optimNet.fc2.weight), (1, layer2Connections))\n",
    "            layer3Weights = torch.reshape(torch.flatten(optimNet.fc3.weight), (1, layer3Connections))\n",
    "            # Combine weights for whole model\n",
    "            temp = torch.cat((layer2Weights, layer1Weights), dim=1)\n",
    "            wholeModelWeights = torch.cat((temp, layer3Weights), dim=1)\n",
    "            # Save weights and cost for later\n",
    "            wholeModelWeightsTensor[counter] = wholeModelWeights\n",
    "            layer2WeightsTensor[counter] = layer2Weights\n",
    "            costTensor[counter] = cost\n",
    "            counter += 1"
   ]
  },
  {
   "cell_type": "code",
   "execution_count": 8,
   "id": "distributed-education",
   "metadata": {},
   "outputs": [],
   "source": [
    "# Implementation of PCA for dimention reduction of weights\n",
    "def pcaImplementation(inputArray, dimToReturn):\n",
    "    m, n = inputArray.shape\n",
    "    \n",
    "    # Calculate means and Normalize\n",
    "    meansOfInputs = np.array([np.mean(inputArray[:, index]) for index in range(n)])\n",
    "    inputNormalized = inputArray - meansOfInputs\n",
    "    \n",
    "    # Calculate eigenvalues and eigenvectors\n",
    "    mtr = np.dot(np.transpose(inputNormalized),inputNormalized)\n",
    "    eigenvalues, eigenvectors = np.linalg.eig(mtr)\n",
    "    pairs = [(np.abs(eigenvalues[index]), eigenvectors[:, index]) for index in range(n)]\n",
    "\n",
    "    # Sort pairs and return dimensions requested\n",
    "    pairs.sort(key=lambda x: x[0], reverse=True)\n",
    "    featFromData = np.array([value[1] for value in pairs[:dimToReturn]])\n",
    "    reducedDimData = np.dot(inputNormalized, np.transpose(featFromData))\n",
    "    return reducedDimData"
   ]
  },
  {
   "cell_type": "code",
   "execution_count": 9,
   "id": "funded-maximum",
   "metadata": {
    "scrolled": true
   },
   "outputs": [],
   "source": [
    "# Reduce dimensions using PCA\n",
    "layer2Reduced = layer2WeightsTensor.detach().cpu().numpy()\n",
    "wholeModelReduced = wholeModelWeightsTensor.detach().cpu().numpy()\n",
    "costVector = costTensor.detach().cpu().numpy()\n",
    "layer2Reduced = pcaImplementation(layer2Reduced, 2)\n",
    "wholeModelReduced = pcaImplementation(wholeModelReduced, 2)"
   ]
  },
  {
   "cell_type": "code",
   "execution_count": 10,
   "id": "greek-lotus",
   "metadata": {},
   "outputs": [
    {
     "data": {
      "image/png": "[encoded data removed]",
      "text/plain": [
       "<Figure size 432x288 with 1 Axes>"
      ]
     },
     "metadata": {
      "needs_background": "light"
     },
     "output_type": "display_data"
    }
   ],
   "source": [
    "# Plot optimization of Layer 2 of NN\n",
    "colorList = ['r*', 'b*', 'g*', 'm*', 'c*', 'y*', 'k*']\n",
    "colorNameList = [\"red\", \"blue\", \"green\", \"purple\", \"cyan\", \"yellow\", 'black']\n",
    "counter = 0\n",
    "colorCounter = 0\n",
    "for pair in layer2Reduced:\n",
    "    if (counter % 10) == 0 and counter != 0:\n",
    "        # Change Color\n",
    "        if colorCounter >= len(colorList) - 1:\n",
    "            colorCounter = 0\n",
    "        else:\n",
    "            colorCounter += 1\n",
    "    plt.plot(pair[0], pair[1], colorList[colorCounter])\n",
    "    plt.annotate(str(round(costVector[counter][0], 2)), (pair[0], pair[1]), color=colorNameList[colorCounter])\n",
    "    counter += 1\n",
    "plt.title(\"Layer 2's Weights Optimization\") \n",
    "plt.show()\n"
   ]
  },
  {
   "cell_type": "code",
   "execution_count": 11,
   "id": "executed-composite",
   "metadata": {},
   "outputs": [
    {
     "data": {
      "image/png": "[encoded data removed]",
      "text/plain": [
       "<Figure size 432x288 with 1 Axes>"
      ]
     },
     "metadata": {
      "needs_background": "light"
     },
     "output_type": "display_data"
    }
   ],
   "source": [
    "# Plot optimization of Whole Model of NN\n",
    "counter = 0\n",
    "colorCounter = 0\n",
    "for pair in wholeModelReduced:\n",
    "    if (counter % 10) == 0 and counter != 0:\n",
    "        if colorCounter >= len(colorList) - 1:\n",
    "            colorCounter = 0\n",
    "        else:\n",
    "            colorCounter += 1\n",
    "    plt.plot(pair[0], pair[1], colorList[colorCounter])\n",
    "    plt.annotate(str(round(costVector[counter][0], 2)), (pair[0], pair[1]), color=colorNameList[colorCounter])\n",
    "    counter += 1\n",
    "plt.title(\"Whole Model's Weights Optimization\")\n",
    "plt.show()"
   ]
  }
 ],
 "metadata": {
  "kernelspec": {
   "display_name": "Python 3 (ipykernel)",
   "language": "python",
   "name": "python3"
  },
  "language_info": {
   "codemirror_mode": {
    "name": "ipython",
    "version": 3
   },
   "file_extension": ".py",
   "mimetype": "text/x-python",
   "name": "python",
   "nbconvert_exporter": "python",
   "pygments_lexer": "ipython3",
   "version": "3.7.11"
  }
 },
 "nbformat": 4,
 "nbformat_minor": 5
}
